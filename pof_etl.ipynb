{
  "nbformat": 4,
  "nbformat_minor": 0,
  "metadata": {
    "colab": {
      "provenance": [],
      "authorship_tag": "ABX9TyMu0Fsd9kXXJt1+9CVuraSS",
      "include_colab_link": true
    },
    "kernelspec": {
      "name": "python3",
      "display_name": "Python 3"
    },
    "language_info": {
      "name": "python"
    }
  },
  "cells": [
    {
      "cell_type": "markdown",
      "metadata": {
        "id": "view-in-github",
        "colab_type": "text"
      },
      "source": [
        "<a href=\"https://colab.research.google.com/github/carloslme/simple-etl-gcf/blob/main/pof_etl.ipynb\" target=\"_parent\"><img src=\"https://colab.research.google.com/assets/colab-badge.svg\" alt=\"Open In Colab\"/></a>"
      ]
    },
    {
      "cell_type": "code",
      "source": [
        "import requests\n",
        "import pandas as pd\n",
        "import zipfile"
      ],
      "metadata": {
        "id": "rXm5XGohN9b2"
      },
      "execution_count": 7,
      "outputs": []
    },
    {
      "cell_type": "code",
      "source": [
        "URL = \"https://www.inegi.org.mx/contenidos/programas/ccpv/2020/datosabiertos/geoelectorales/eceg_2020_csv.zip\""
      ],
      "metadata": {
        "id": "PPlME6D9OPbP"
      },
      "execution_count": 5,
      "outputs": []
    },
    {
      "cell_type": "code",
      "execution_count": 12,
      "metadata": {
        "id": "GPfP0IPjM5lv"
      },
      "outputs": [],
      "source": [
        "def extract_data(url: str) -> pd.DataFrame:\n",
        "  # Download the file\n",
        "  response = requests.get(url)\n",
        "  file_path = \"eceg_2020_csv.zip\"\n",
        "  open(file_path, \"wb\").write(response.content)\n",
        "  # Unzip file\n",
        "  with zipfile.ZipFile(file_path, 'r') as zip_ref:\n",
        "      zip_ref.extractall(\"\")\n",
        "  # Read the file\n",
        "  df = pd.read_csv(\"/content/conjunto_de_datos/INE_DISTRITO_2020.CSV\", encoding = \"ISO-8859-1\")\n",
        "  # Return dataframe\n",
        "  return df"
      ]
    },
    {
      "cell_type": "code",
      "source": [
        "raw_data = extract_data(URL)\n",
        "display(raw_data)"
      ],
      "metadata": {
        "id": "icc_btGbNYZm"
      },
      "execution_count": null,
      "outputs": []
    },
    {
      "cell_type": "code",
      "source": [],
      "metadata": {
        "id": "M4yTopKWP2AX"
      },
      "execution_count": null,
      "outputs": []
    }
  ]
}