{
  "nbformat": 4,
  "nbformat_minor": 0,
  "metadata": {
    "colab": {
      "provenance": [],
      "authorship_tag": "ABX9TyNZXz950/+K3bd1rnfGzEAR",
      "include_colab_link": true
    },
    "kernelspec": {
      "name": "python3",
      "display_name": "Python 3"
    },
    "language_info": {
      "name": "python"
    }
  },
  "cells": [
    {
      "cell_type": "markdown",
      "metadata": {
        "id": "view-in-github",
        "colab_type": "text"
      },
      "source": [
        "<a href=\"https://colab.research.google.com/github/carloslme/simple-etl-gcf/blob/main/pof_etl.ipynb\" target=\"_parent\"><img src=\"https://colab.research.google.com/assets/colab-badge.svg\" alt=\"Open In Colab\"/></a>"
      ]
    },
    {
      "cell_type": "markdown",
      "source": [
        "# POC ETL"
      ],
      "metadata": {
        "id": "KYOyccEWfm9_"
      }
    },
    {
      "cell_type": "code",
      "source": [
        "import requests\n",
        "import pandas as pd\n",
        "import zipfile\n",
        "\n",
        "import datetime\n",
        "from google.cloud import bigquery\n",
        "import pytz\n",
        "from logging import exception"
      ],
      "metadata": {
        "id": "rXm5XGohN9b2"
      },
      "execution_count": 40,
      "outputs": []
    },
    {
      "cell_type": "code",
      "source": [
        "URL = \"https://www.inegi.org.mx/contenidos/programas/ccpv/2020/datosabiertos/geoelectorales/eceg_2020_csv.zip\""
      ],
      "metadata": {
        "id": "PPlME6D9OPbP"
      },
      "execution_count": 41,
      "outputs": []
    },
    {
      "cell_type": "code",
      "execution_count": 42,
      "metadata": {
        "id": "GPfP0IPjM5lv"
      },
      "outputs": [],
      "source": [
        "def extract_data(url: str) -> pd.DataFrame:\n",
        "  # Download the file\n",
        "  response = requests.get(url)\n",
        "  file_path = \"eceg_2020_csv.zip\"\n",
        "  open(file_path, \"wb\").write(response.content)\n",
        "  # Unzip file\n",
        "  with zipfile.ZipFile(file_path, 'r') as zip_ref:\n",
        "      zip_ref.extractall(\"\")\n",
        "  # Read the file\n",
        "  df = pd.read_csv(\"/content/conjunto_de_datos/INE_DISTRITO_2020.CSV\", encoding = \"ISO-8859-1\")\n",
        "  # Return dataframe\n",
        "  return df"
      ]
    },
    {
      "cell_type": "code",
      "source": [
        "def transform_data(df: pd.DataFrame) -> pd.DataFrame:\n",
        "  # Modify/Transform column headers\n",
        "  df.columns = [x.lower() for x in df.columns]\n",
        "  df = df.astype(str)\n",
        "  # Return transformed dataframe\n",
        "  return df"
      ],
      "metadata": {
        "id": "0jExHybtUOZ4"
      },
      "execution_count": 43,
      "outputs": []
    },
    {
      "cell_type": "code",
      "source": [
        "\n",
        "def load_data(df: pd.DataFrame) -> str:\n",
        "  \n",
        "  try:\n",
        "    # Construct a BigQuery client object.\n",
        "    client = bigquery.Client()\n",
        "\n",
        "    # TODO(developer): Set table_id to the ID of the table to create.\n",
        "    table_id = \"dso-dev-377920.inegi.ine_distrito_2020\"\n",
        "\n",
        "\n",
        "    job_config = bigquery.LoadJobConfig(\n",
        "        # Specify a (partial) schema. All columns are always written to the\n",
        "        # table. The schema is used to assist in data type definitions.\n",
        "        schema=[\n",
        "            # Specify the type of columns whose type cannot be auto-detected. For\n",
        "            # example the \"title\" column uses pandas dtype \"object\", so its\n",
        "            # data type is ambiguous.\n",
        "            bigquery.SchemaField(\"entidad\", bigquery.enums.SqlTypeNames.STRING)\n",
        "            \n",
        "        ],\n",
        "        # Optionally, set the write disposition. BigQuery appends loaded rows\n",
        "        # to an existing table by default, but with WRITE_TRUNCATE write\n",
        "        # disposition it replaces the table with the loaded data.\n",
        "        write_disposition=\"WRITE_TRUNCATE\",\n",
        "    )\n",
        "    job = client.load_table_from_dataframe(\n",
        "        df, table_id, job_config=job_config\n",
        "    )  # Make an API request.\n",
        "    job.result()  # Wait for the job to complete.\n",
        "\n",
        "    table = client.get_table(table_id)  # Make an API request.\n",
        "    print(\n",
        "        \"Loaded {} rows and {} columns to {}\".format(\n",
        "            table.num_rows, len(table.schema), table_id\n",
        "        )\n",
        "    )\n",
        "    return \"OK\"\n",
        "  except Exception as e:\n",
        "    print(str(e))\n",
        "    return \"Error\"\n",
        " "
      ],
      "metadata": {
        "id": "-_kPncd0XI6S"
      },
      "execution_count": 63,
      "outputs": []
    },
    {
      "cell_type": "code",
      "source": [
        "#raw_data = extract_data(URL)\n",
        "#transformed_data = transform_data(raw_data)\n",
        "#result = load_data(transformed_data)"
      ],
      "metadata": {
        "colab": {
          "base_uri": "https://localhost:8080/"
        },
        "id": "z9aQmDFeer_l",
        "outputId": "262749c1-173f-45ba-c02c-2ba49b539be0"
      },
      "execution_count": 61,
      "outputs": [
        {
          "output_type": "stream",
          "name": "stdout",
          "text": [
            "(\"Failed to retrieve http://metadata.google.internal/computeMetadata/v1/instance/service-accounts/default/?recursive=true from the Google Compute Engine metadata service. Status: 404 Response:\\nb''\", <google.auth.transport.requests._Response object at 0x7fda025c0af0>)\n"
          ]
        }
      ]
    },
    {
      "cell_type": "code",
      "source": [
        "def main():\n",
        "  raw_data = extract_data(URL)\n",
        "  transformed_data = transform_data(raw_data)\n",
        "  result = load_data(transformed_data)\n",
        "  print(result)\n",
        "  return result"
      ],
      "metadata": {
        "id": "VUQrbNyxad-n"
      },
      "execution_count": 64,
      "outputs": []
    },
    {
      "cell_type": "code",
      "source": [
        "main()"
      ],
      "metadata": {
        "colab": {
          "base_uri": "https://localhost:8080/",
          "height": 91
        },
        "id": "Pd1Df8CsdCT8",
        "outputId": "3cfa425f-5f78-492a-cf45-20744753ef68"
      },
      "execution_count": 65,
      "outputs": [
        {
          "output_type": "stream",
          "name": "stdout",
          "text": [
            "(\"Failed to retrieve http://metadata.google.internal/computeMetadata/v1/instance/service-accounts/default/?recursive=true from the Google Compute Engine metadata service. Status: 404 Response:\\nb''\", <google.auth.transport.requests._Response object at 0x7fda022423d0>)\n",
            "Error\n"
          ]
        },
        {
          "output_type": "execute_result",
          "data": {
            "text/plain": [
              "'Error'"
            ],
            "application/vnd.google.colaboratory.intrinsic+json": {
              "type": "string"
            }
          },
          "metadata": {},
          "execution_count": 65
        }
      ]
    },
    {
      "cell_type": "markdown",
      "source": [
        "# Python ETL Script"
      ],
      "metadata": {
        "id": "9lrhc4N8fkCs"
      }
    },
    {
      "cell_type": "code",
      "source": [
        "import requests\n",
        "import pandas as pd\n",
        "import zipfile\n",
        "\n",
        "import datetime\n",
        "from google.cloud import bigquery\n",
        "import pytz\n",
        "from logging import exception\n",
        "\n",
        "URL = \"https://www.inegi.org.mx/contenidos/programas/ccpv/2020/datosabiertos/geoelectorales/eceg_2020_csv.zip\"\n",
        "\n",
        "def extract_data(url: str) -> pd.DataFrame:\n",
        "  # Download the file\n",
        "  response = requests.get(url)\n",
        "  file_path = \"eceg_2020_csv.zip\"\n",
        "  open(file_path, \"wb\").write(response.content)\n",
        "  # Unzip file\n",
        "  with zipfile.ZipFile(file_path, 'r') as zip_ref:\n",
        "      zip_ref.extractall(\"\")\n",
        "  # Read the file\n",
        "  df = pd.read_csv(\"/content/conjunto_de_datos/INE_DISTRITO_2020.CSV\", encoding = \"ISO-8859-1\")\n",
        "  # Return dataframe\n",
        "  return df\n",
        "\n",
        "def transform_data(df: pd.DataFrame) -> pd.DataFrame:\n",
        "  # Modify/Transform column headers\n",
        "  df.columns = [x.lower() for x in df.columns]\n",
        "  df = df.astype(str)\n",
        "  # Return transformed dataframe\n",
        "  return df\n",
        "\n",
        "\n",
        "def load_data(df: pd.DataFrame) -> str:\n",
        "  \n",
        "  try:\n",
        "    # Construct a BigQuery client object.\n",
        "    client = bigquery.Client()\n",
        "\n",
        "    # TODO(developer): Set table_id to the ID of the table to create.\n",
        "    table_id = \"dso-dev-377920.inegi.ine_distrito_2020\"\n",
        "\n",
        "\n",
        "    job_config = bigquery.LoadJobConfig(\n",
        "        # Specify a (partial) schema. All columns are always written to the\n",
        "        # table. The schema is used to assist in data type definitions.\n",
        "        schema=[\n",
        "            # Specify the type of columns whose type cannot be auto-detected. For\n",
        "            # example the \"title\" column uses pandas dtype \"object\", so its\n",
        "            # data type is ambiguous.\n",
        "            bigquery.SchemaField(\"entidad\", bigquery.enums.SqlTypeNames.STRING)\n",
        "            \n",
        "        ],\n",
        "        # Optionally, set the write disposition. BigQuery appends loaded rows\n",
        "        # to an existing table by default, but with WRITE_TRUNCATE write\n",
        "        # disposition it replaces the table with the loaded data.\n",
        "        write_disposition=\"WRITE_TRUNCATE\",\n",
        "    )\n",
        "    job = client.load_table_from_dataframe(\n",
        "        df, table_id, job_config=job_config\n",
        "    )  # Make an API request.\n",
        "    job.result()  # Wait for the job to complete.\n",
        "\n",
        "    table = client.get_table(table_id)  # Make an API request.\n",
        "    print(\n",
        "        \"Loaded {} rows and {} columns to {}\".format(\n",
        "            table.num_rows, len(table.schema), table_id\n",
        "        )\n",
        "    )\n",
        "    return \"OK\"\n",
        "  except Exception as e:\n",
        "    print(str(e))\n",
        "    return \"Error\"\n",
        " \n",
        "def main():\n",
        "  raw_data = extract_data(URL)\n",
        "  transformed_data = transform_data(raw_data)\n",
        "  result = load_data(transformed_data)\n",
        "  print(result)\n",
        "  return result\n",
        "\n",
        "main()\n"
      ],
      "metadata": {
        "id": "iSxBAEqnfjsd"
      },
      "execution_count": null,
      "outputs": []
    }
  ]
}